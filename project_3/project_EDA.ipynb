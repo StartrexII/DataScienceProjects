{
 "cells": [
  {
   "attachments": {},
   "cell_type": "markdown",
   "metadata": {},
   "source": [
    "# <center>PROJECT-3. EDA + Feature Engineering\n"
   ]
  },
  {
   "cell_type": "code",
   "execution_count": 1,
   "metadata": {},
   "outputs": [],
   "source": [
    "import re\n",
    "\n",
    "import pandas as pd\n",
    "import numpy as np\n",
    "from  bs4 import BeautifulSoup\n",
    "import requests \n",
    "import scipy.stats as stats\n",
    "from geopy.geocoders import Nominatim\n",
    "import category_encoders as ce\n",
    "from sklearn import preprocessing\n",
    "from sklearn.model_selection import train_test_split\n",
    "from sklearn.ensemble import RandomForestRegressor  \n",
    "from sklearn import metrics\n",
    "from comet_ml import Experiment\n",
    "from sklearn.feature_selection import f_classif\n",
    "from sklearn.feature_selection import chi2\n",
    "from sklearn.feature_selection import SelectKBest"
   ]
  },
  {
   "cell_type": "code",
   "execution_count": 2,
   "metadata": {},
   "outputs": [
    {
     "name": "stderr",
     "output_type": "stream",
     "text": [
      "\u001b[1;38;5;214mCOMET WARNING:\u001b[0m To get all data logged automatically, import comet_ml before the following modules: sklearn.\n",
      "\u001b[1;38;5;214mCOMET WARNING:\u001b[0m As you are running in a Jupyter environment, you will need to call `experiment.end()` when finished to ensure all metrics and code are logged before exiting.\n",
      "\u001b[1;38;5;39mCOMET INFO:\u001b[0m Experiment is live on comet.com https://www.comet.com/startrexii/hotelsscoreprediction/9ad0e316ec6943cb85109acad1ce8b7e\n",
      "\n"
     ]
    }
   ],
   "source": [
    "experiment = Experiment(\n",
    "    api_key='dvTasbKRODZA04cIRJBjekvYQ',\n",
    "    project_name='hotelsscoreprediction',\n",
    "    workspace='startrexii'\n",
    ")"
   ]
  },
  {
   "attachments": {},
   "cell_type": "markdown",
   "metadata": {},
   "source": [
    "## Загрузка данных"
   ]
  },
  {
   "cell_type": "code",
   "execution_count": 3,
   "metadata": {},
   "outputs": [
    {
     "data": {
      "text/html": [
       "<div>\n",
       "<style scoped>\n",
       "    .dataframe tbody tr th:only-of-type {\n",
       "        vertical-align: middle;\n",
       "    }\n",
       "\n",
       "    .dataframe tbody tr th {\n",
       "        vertical-align: top;\n",
       "    }\n",
       "\n",
       "    .dataframe thead th {\n",
       "        text-align: right;\n",
       "    }\n",
       "</style>\n",
       "<table border=\"1\" class=\"dataframe\">\n",
       "  <thead>\n",
       "    <tr style=\"text-align: right;\">\n",
       "      <th></th>\n",
       "      <th>hotel_address</th>\n",
       "      <th>additional_number_of_scoring</th>\n",
       "      <th>review_date</th>\n",
       "      <th>average_score</th>\n",
       "      <th>hotel_name</th>\n",
       "      <th>reviewer_nationality</th>\n",
       "      <th>negative_review</th>\n",
       "      <th>review_total_negative_word_counts</th>\n",
       "      <th>total_number_of_reviews</th>\n",
       "      <th>positive_review</th>\n",
       "      <th>review_total_positive_word_counts</th>\n",
       "      <th>total_number_of_reviews_reviewer_has_given</th>\n",
       "      <th>reviewer_score</th>\n",
       "      <th>tags</th>\n",
       "      <th>days_since_review</th>\n",
       "      <th>lat</th>\n",
       "      <th>lng</th>\n",
       "    </tr>\n",
       "  </thead>\n",
       "  <tbody>\n",
       "    <tr>\n",
       "      <th>0</th>\n",
       "      <td>Stratton Street Mayfair Westminster Borough Lo...</td>\n",
       "      <td>581</td>\n",
       "      <td>2/19/2016</td>\n",
       "      <td>8.4</td>\n",
       "      <td>The May Fair Hotel</td>\n",
       "      <td>United Kingdom</td>\n",
       "      <td>Leaving</td>\n",
       "      <td>3</td>\n",
       "      <td>1994</td>\n",
       "      <td>Staff were amazing</td>\n",
       "      <td>4</td>\n",
       "      <td>7</td>\n",
       "      <td>10.0</td>\n",
       "      <td>[' Leisure trip ', ' Couple ', ' Studio Suite ...</td>\n",
       "      <td>531 day</td>\n",
       "      <td>51.507894</td>\n",
       "      <td>-0.143671</td>\n",
       "    </tr>\n",
       "    <tr>\n",
       "      <th>1</th>\n",
       "      <td>130 134 Southampton Row Camden London WC1B 5AF...</td>\n",
       "      <td>299</td>\n",
       "      <td>1/12/2017</td>\n",
       "      <td>8.3</td>\n",
       "      <td>Mercure London Bloomsbury Hotel</td>\n",
       "      <td>United Kingdom</td>\n",
       "      <td>poor breakfast</td>\n",
       "      <td>3</td>\n",
       "      <td>1361</td>\n",
       "      <td>location</td>\n",
       "      <td>2</td>\n",
       "      <td>14</td>\n",
       "      <td>6.3</td>\n",
       "      <td>[' Business trip ', ' Couple ', ' Standard Dou...</td>\n",
       "      <td>203 day</td>\n",
       "      <td>51.521009</td>\n",
       "      <td>-0.123097</td>\n",
       "    </tr>\n",
       "    <tr>\n",
       "      <th>2</th>\n",
       "      <td>151 bis Rue de Rennes 6th arr 75006 Paris France</td>\n",
       "      <td>32</td>\n",
       "      <td>10/18/2016</td>\n",
       "      <td>8.9</td>\n",
       "      <td>Legend Saint Germain by Elegancia</td>\n",
       "      <td>China</td>\n",
       "      <td>No kettle in room</td>\n",
       "      <td>6</td>\n",
       "      <td>406</td>\n",
       "      <td>No Positive</td>\n",
       "      <td>0</td>\n",
       "      <td>14</td>\n",
       "      <td>7.5</td>\n",
       "      <td>[' Leisure trip ', ' Solo traveler ', ' Modern...</td>\n",
       "      <td>289 day</td>\n",
       "      <td>48.845377</td>\n",
       "      <td>2.325643</td>\n",
       "    </tr>\n",
       "    <tr>\n",
       "      <th>3</th>\n",
       "      <td>216 Avenue Jean Jaures 19th arr 75019 Paris Fr...</td>\n",
       "      <td>34</td>\n",
       "      <td>9/22/2015</td>\n",
       "      <td>7.5</td>\n",
       "      <td>Mercure Paris 19 Philharmonie La Villette</td>\n",
       "      <td>United Kingdom</td>\n",
       "      <td>No Negative</td>\n",
       "      <td>0</td>\n",
       "      <td>607</td>\n",
       "      <td>Friendly staff quiet comfortable room spotles...</td>\n",
       "      <td>11</td>\n",
       "      <td>8</td>\n",
       "      <td>10.0</td>\n",
       "      <td>[' Leisure trip ', ' Solo traveler ', ' Standa...</td>\n",
       "      <td>681 day</td>\n",
       "      <td>48.888697</td>\n",
       "      <td>2.394540</td>\n",
       "    </tr>\n",
       "    <tr>\n",
       "      <th>4</th>\n",
       "      <td>Molenwerf 1 1014 AG Amsterdam Netherlands</td>\n",
       "      <td>914</td>\n",
       "      <td>3/5/2016</td>\n",
       "      <td>8.5</td>\n",
       "      <td>Golden Tulip Amsterdam West</td>\n",
       "      <td>Poland</td>\n",
       "      <td>Torn sheets</td>\n",
       "      <td>4</td>\n",
       "      <td>7586</td>\n",
       "      <td>The staff was very friendly and helpful Break...</td>\n",
       "      <td>20</td>\n",
       "      <td>10</td>\n",
       "      <td>9.6</td>\n",
       "      <td>[' Business trip ', ' Couple ', ' Standard Dou...</td>\n",
       "      <td>516 day</td>\n",
       "      <td>52.385601</td>\n",
       "      <td>4.847060</td>\n",
       "    </tr>\n",
       "  </tbody>\n",
       "</table>\n",
       "</div>"
      ],
      "text/plain": [
       "                                       hotel_address   \n",
       "0  Stratton Street Mayfair Westminster Borough Lo...  \\\n",
       "1  130 134 Southampton Row Camden London WC1B 5AF...   \n",
       "2   151 bis Rue de Rennes 6th arr 75006 Paris France   \n",
       "3  216 Avenue Jean Jaures 19th arr 75019 Paris Fr...   \n",
       "4          Molenwerf 1 1014 AG Amsterdam Netherlands   \n",
       "\n",
       "   additional_number_of_scoring review_date  average_score   \n",
       "0                           581   2/19/2016            8.4  \\\n",
       "1                           299   1/12/2017            8.3   \n",
       "2                            32  10/18/2016            8.9   \n",
       "3                            34   9/22/2015            7.5   \n",
       "4                           914    3/5/2016            8.5   \n",
       "\n",
       "                                  hotel_name reviewer_nationality   \n",
       "0                         The May Fair Hotel      United Kingdom   \\\n",
       "1            Mercure London Bloomsbury Hotel      United Kingdom    \n",
       "2          Legend Saint Germain by Elegancia               China    \n",
       "3  Mercure Paris 19 Philharmonie La Villette      United Kingdom    \n",
       "4                Golden Tulip Amsterdam West              Poland    \n",
       "\n",
       "       negative_review  review_total_negative_word_counts   \n",
       "0             Leaving                                   3  \\\n",
       "1       poor breakfast                                  3   \n",
       "2   No kettle in room                                   6   \n",
       "3          No Negative                                  0   \n",
       "4         Torn sheets                                   4   \n",
       "\n",
       "   total_number_of_reviews                                    positive_review   \n",
       "0                     1994                                 Staff were amazing  \\\n",
       "1                     1361                                           location   \n",
       "2                      406                                        No Positive   \n",
       "3                      607   Friendly staff quiet comfortable room spotles...   \n",
       "4                     7586   The staff was very friendly and helpful Break...   \n",
       "\n",
       "   review_total_positive_word_counts   \n",
       "0                                  4  \\\n",
       "1                                  2   \n",
       "2                                  0   \n",
       "3                                 11   \n",
       "4                                 20   \n",
       "\n",
       "   total_number_of_reviews_reviewer_has_given  reviewer_score   \n",
       "0                                           7            10.0  \\\n",
       "1                                          14             6.3   \n",
       "2                                          14             7.5   \n",
       "3                                           8            10.0   \n",
       "4                                          10             9.6   \n",
       "\n",
       "                                                tags days_since_review   \n",
       "0  [' Leisure trip ', ' Couple ', ' Studio Suite ...           531 day  \\\n",
       "1  [' Business trip ', ' Couple ', ' Standard Dou...           203 day   \n",
       "2  [' Leisure trip ', ' Solo traveler ', ' Modern...           289 day   \n",
       "3  [' Leisure trip ', ' Solo traveler ', ' Standa...           681 day   \n",
       "4  [' Business trip ', ' Couple ', ' Standard Dou...           516 day   \n",
       "\n",
       "         lat       lng  \n",
       "0  51.507894 -0.143671  \n",
       "1  51.521009 -0.123097  \n",
       "2  48.845377  2.325643  \n",
       "3  48.888697  2.394540  \n",
       "4  52.385601  4.847060  "
      ]
     },
     "execution_count": 3,
     "metadata": {},
     "output_type": "execute_result"
    }
   ],
   "source": [
    "hotels = pd.read_csv('./data/hotels.csv')\n",
    "\n",
    "hotels.head()"
   ]
  },
  {
   "cell_type": "code",
   "execution_count": 4,
   "metadata": {},
   "outputs": [
    {
     "name": "stdout",
     "output_type": "stream",
     "text": [
      "<class 'pandas.core.frame.DataFrame'>\n",
      "RangeIndex: 386803 entries, 0 to 386802\n",
      "Data columns (total 17 columns):\n",
      " #   Column                                      Non-Null Count   Dtype  \n",
      "---  ------                                      --------------   -----  \n",
      " 0   hotel_address                               386803 non-null  object \n",
      " 1   additional_number_of_scoring                386803 non-null  int64  \n",
      " 2   review_date                                 386803 non-null  object \n",
      " 3   average_score                               386803 non-null  float64\n",
      " 4   hotel_name                                  386803 non-null  object \n",
      " 5   reviewer_nationality                        386803 non-null  object \n",
      " 6   negative_review                             386803 non-null  object \n",
      " 7   review_total_negative_word_counts           386803 non-null  int64  \n",
      " 8   total_number_of_reviews                     386803 non-null  int64  \n",
      " 9   positive_review                             386803 non-null  object \n",
      " 10  review_total_positive_word_counts           386803 non-null  int64  \n",
      " 11  total_number_of_reviews_reviewer_has_given  386803 non-null  int64  \n",
      " 12  reviewer_score                              386803 non-null  float64\n",
      " 13  tags                                        386803 non-null  object \n",
      " 14  days_since_review                           386803 non-null  object \n",
      " 15  lat                                         384355 non-null  float64\n",
      " 16  lng                                         384355 non-null  float64\n",
      "dtypes: float64(4), int64(5), object(8)\n",
      "memory usage: 50.2+ MB\n"
     ]
    }
   ],
   "source": [
    "hotels.info()"
   ]
  },
  {
   "attachments": {},
   "cell_type": "markdown",
   "metadata": {},
   "source": [
    "## Очистка данных"
   ]
  },
  {
   "cell_type": "code",
   "execution_count": 5,
   "metadata": {},
   "outputs": [
    {
     "data": {
      "text/plain": [
       "hotel_address                                    0\n",
       "additional_number_of_scoring                     0\n",
       "review_date                                      0\n",
       "average_score                                    0\n",
       "hotel_name                                       0\n",
       "reviewer_nationality                             0\n",
       "negative_review                                  0\n",
       "review_total_negative_word_counts                0\n",
       "total_number_of_reviews                          0\n",
       "positive_review                                  0\n",
       "review_total_positive_word_counts                0\n",
       "total_number_of_reviews_reviewer_has_given       0\n",
       "reviewer_score                                   0\n",
       "tags                                             0\n",
       "days_since_review                                0\n",
       "lat                                           2448\n",
       "lng                                           2448\n",
       "dtype: int64"
      ]
     },
     "execution_count": 5,
     "metadata": {},
     "output_type": "execute_result"
    }
   ],
   "source": [
    "hotels.isnull().sum()"
   ]
  },
  {
   "cell_type": "code",
   "execution_count": 6,
   "metadata": {},
   "outputs": [],
   "source": [
    "# Заполним пропуски в значениях координат\n",
    "\n",
    "'''\n",
    "def find_coordiates(address: str, longitude :bool=False) -> float:\n",
    "    \"\"\"Функция по адресу определяет географические координаты\n",
    "\n",
    "    Args:\n",
    "        address (str): Строка с адресом\n",
    "        longitude (bool, optional): Аргумент определяет какую составляющую координат необходимо вернуть. Defaults to False -> defaults returns latitude.\n",
    "\n",
    "    Returns:\n",
    "        float: Значение координаты\n",
    "    \"\"\"\n",
    "    userAgent = 'your User-Agent'\n",
    "    geolocator = Nominatim(user_agent=userAgent)\n",
    "    \n",
    "    location = geolocator.geocode(address) # Определяем локацию по адресу\n",
    "    lat, lng = (location.latitude, location.longitude) # Выделяем географические координаты\n",
    "    \n",
    "    if longitude:\n",
    "        return lng\n",
    "    else:\n",
    "        return lat\n",
    "\n",
    "# Список отелей, у которых пропущен адрес\n",
    "NotCoordHotelsLst = hotels.loc[hotels['lat'].isna(), 'hotel_name'].value_counts().index\n",
    "# Координаты этих отелей\n",
    "coordinates = {addr: (find_coordiates(addr), find_coordiates(addr, longitude=True)) for addr in NotCoordHotelsLst}\n",
    "'''\n",
    "\n",
    "coordinates = {\n",
    "    'Fleming s Selection Hotel Wien City': (48.209405, 16.351257),\n",
    "    'Hotel City Central': (48.2135658, 16.3799212),\n",
    "    'Hotel Atlanta': (50.8520697, 4.354408380443903),\n",
    "    'Maison Albar Hotel Paris Op ra Diamond': (48.875321, 2.321203),\n",
    "    'Hotel Daniel Vienna': (48.1888627, 16.3838516356697),\n",
    "    'Hotel Pension Baron am Schottentor': (48.216803, 16.357717),\n",
    "    'Austria Trend Hotel Schloss Wilhelminenberg Wien': (48.2196753, 16.2854959),\n",
    "    'NH Collection Barcelona Podium': (41.39188235, 2.1779639552623635),\n",
    "    'Derag Livinghotel Kaiser Franz Joseph Vienna': (48.245891, 16.339740),\n",
    "    'City Hotel Deutschmeister': (48.220855, 16.364423),\n",
    "    'Holiday Inn Paris Montmartre': (48.8715708, 2.3436597),\n",
    "    'Hotel Park Villa': (49.13646555, 9.230946491810585),\n",
    "    'Cordial Theaterhotel Wien': (48.20966395, 16.35142625097432),\n",
    "    'Roomz Vienna': (48.18672145, 16.420653090404993),\n",
    "    'Mercure Paris Gare Montparnasse': (48.839752, 2.323791),\n",
    "    'Hotel Advance': (27.9124545, 84.8838653),\n",
    "    'Renaissance Barcelona Hotel': (41.3927154, 2.1674921)\n",
    "}"
   ]
  },
  {
   "cell_type": "code",
   "execution_count": 7,
   "metadata": {},
   "outputs": [],
   "source": [
    "hotels.loc[hotels['lat'].isna(), 'lat'] = hotels.loc[hotels['lat'].isna(), 'hotel_name'].apply(lambda x: coordinates[x][0])\n",
    "hotels.loc[hotels['lng'].isna(), 'lng'] = hotels.loc[hotels['lng'].isna(), 'hotel_name'].apply(lambda x: coordinates[x][1])"
   ]
  },
  {
   "cell_type": "code",
   "execution_count": 8,
   "metadata": {},
   "outputs": [
    {
     "data": {
      "text/plain": [
       "hotel_address                                 0\n",
       "additional_number_of_scoring                  0\n",
       "review_date                                   0\n",
       "average_score                                 0\n",
       "hotel_name                                    0\n",
       "reviewer_nationality                          0\n",
       "negative_review                               0\n",
       "review_total_negative_word_counts             0\n",
       "total_number_of_reviews                       0\n",
       "positive_review                               0\n",
       "review_total_positive_word_counts             0\n",
       "total_number_of_reviews_reviewer_has_given    0\n",
       "reviewer_score                                0\n",
       "tags                                          0\n",
       "days_since_review                             0\n",
       "lat                                           0\n",
       "lng                                           0\n",
       "dtype: int64"
      ]
     },
     "execution_count": 8,
     "metadata": {},
     "output_type": "execute_result"
    }
   ],
   "source": [
    "hotels.isnull().sum()"
   ]
  },
  {
   "cell_type": "code",
   "execution_count": 9,
   "metadata": {},
   "outputs": [
    {
     "name": "stdout",
     "output_type": "stream",
     "text": [
      "Количество дубликатов в данных: 307\n",
      "Количество строк в датасете после очистки: 386496\n"
     ]
    }
   ],
   "source": [
    "numbOfDuplicates = hotels.duplicated().sum()\n",
    "\n",
    "# Удаляем дубликаты\n",
    "hotels = hotels.drop_duplicates()\n",
    "afterCleaning = hotels.shape[0]\n",
    "\n",
    "print('Количество дубликатов в данных:', numbOfDuplicates)\n",
    "print('Количество строк в датасете после очистки:', afterCleaning)"
   ]
  },
  {
   "attachments": {},
   "cell_type": "markdown",
   "metadata": {},
   "source": [
    "## Проектирование признаков"
   ]
  },
  {
   "cell_type": "code",
   "execution_count": 10,
   "metadata": {},
   "outputs": [],
   "source": [
    "# Выделим страну отеля\n",
    "def countryCreate(countryStr: str) -> str:\n",
    "    \"\"\"Функция выделяет страну из строки\n",
    "\n",
    "    Args:\n",
    "        countryStr (str): Строка, содержащая название страны\n",
    "\n",
    "    Returns:\n",
    "        str: Название страны\n",
    "    \"\"\"\n",
    "    wordLst = countryStr.split() # Список всех слов в строке\n",
    "    \n",
    "    if wordLst[-1] == 'Kingdom':\n",
    "        return ' '.join(wordLst[-2:])\n",
    "    else:\n",
    "        return wordLst[-1]\n",
    "\n",
    "\n",
    "hotels['hotel_country'] = hotels['hotel_address'].apply(countryCreate)\n",
    "\n",
    "# Удаляем лишнее\n",
    "hotels = hotels.drop('hotel_address', axis=1)"
   ]
  },
  {
   "cell_type": "code",
   "execution_count": 11,
   "metadata": {},
   "outputs": [
    {
     "data": {
      "text/plain": [
       "\"url = 'http://en.ostranah.ru/_lists/population.php'\\nsoup = BeautifulSoup(requests.get(url).text, 'html.parser')\\ntable = soup.select('table')[0] # Получаем таблицу со странами(html-вид)\\n\\nrows = table.find_all('td') # \\n\\nfor i, tag in enumerate(rows): # Переводим тэги в текст, который в них содержится\\n    rows[i] = tag.text \\n\\nvalues = np.array_split(rows, len(rows) / 2)\\n\\npopulationDf = pd.DataFrame(\\n    data=values,\\n    columns=['hotel_country', 'Population']    \\n)\\n\\n# Получаем таблицу стран и их площади\\nurl = 'http://en.ostranah.ru/_lists/area.php'\\nsoup = BeautifulSoup(requests.get(url).text, 'html.parser')\\ntable = soup.select('table')[0] # Получаем таблицу со странами(html-вид)\\n\\nrows = table.find_all('td') # \\n\\nfor i, tag in enumerate(rows): # Переводим тэги в текст, который в них содержится\\n    rows[i] = tag.text \\n\\nvalues = np.array_split(rows, len(rows) / 2)\\n\\nareaDf = pd.DataFrame(\\n    data=values,\\n    columns=['hotel_country', 'Area']    \\n)\\n\\n\\n# Объединяем все в одну таблицу\\ncountry = pd.merge(\\n    left=populationDf,\\n    right=areaDf,\\n    on='hotel_country'\\n)\\n\\n# Убираем пробелы в начале строки\\ncountry['hotel_country'] = country['hotel_country'].apply(lambda x: x[1:])\\ncountry['Population'] = country['Population'].apply(lambda x: x.replace(' ', '')).astype('int')\\ncountry['Area'] = country['Area'].apply(lambda x: x.replace(' ', '')).astype('float')\\n\\ncountry.to_csv('./data/country.csv', index=False)\""
      ]
     },
     "execution_count": 11,
     "metadata": {},
     "output_type": "execute_result"
    }
   ],
   "source": [
    "# Получаем таблицу стран и их численности\n",
    "# Ссылка на сайт с странами\n",
    "'''url = 'http://en.ostranah.ru/_lists/population.php'\n",
    "soup = BeautifulSoup(requests.get(url).text, 'html.parser')\n",
    "table = soup.select('table')[0] # Получаем таблицу со странами(html-вид)\n",
    "\n",
    "rows = table.find_all('td') # \n",
    "\n",
    "for i, tag in enumerate(rows): # Переводим тэги в текст, который в них содержится\n",
    "    rows[i] = tag.text \n",
    "\n",
    "values = np.array_split(rows, len(rows) / 2)\n",
    "\n",
    "populationDf = pd.DataFrame(\n",
    "    data=values,\n",
    "    columns=['hotel_country', 'Population']    \n",
    ")\n",
    "\n",
    "# Получаем таблицу стран и их площади\n",
    "url = 'http://en.ostranah.ru/_lists/area.php'\n",
    "soup = BeautifulSoup(requests.get(url).text, 'html.parser')\n",
    "table = soup.select('table')[0] # Получаем таблицу со странами(html-вид)\n",
    "\n",
    "rows = table.find_all('td') # \n",
    "\n",
    "for i, tag in enumerate(rows): # Переводим тэги в текст, который в них содержится\n",
    "    rows[i] = tag.text \n",
    "\n",
    "values = np.array_split(rows, len(rows) / 2)\n",
    "\n",
    "areaDf = pd.DataFrame(\n",
    "    data=values,\n",
    "    columns=['hotel_country', 'Area']    \n",
    ")\n",
    "\n",
    "\n",
    "# Объединяем все в одну таблицу\n",
    "country = pd.merge(\n",
    "    left=populationDf,\n",
    "    right=areaDf,\n",
    "    on='hotel_country'\n",
    ")\n",
    "\n",
    "# Убираем пробелы в начале строки\n",
    "country['hotel_country'] = country['hotel_country'].apply(lambda x: x[1:])\n",
    "country['Population'] = country['Population'].apply(lambda x: x.replace(' ', '')).astype('int')\n",
    "country['Area'] = country['Area'].apply(lambda x: x.replace(' ', '')).astype('float')\n",
    "\n",
    "country.to_csv('./data/country.csv', index=False)'''"
   ]
  },
  {
   "cell_type": "code",
   "execution_count": 12,
   "metadata": {},
   "outputs": [
    {
     "data": {
      "text/html": [
       "<div>\n",
       "<style scoped>\n",
       "    .dataframe tbody tr th:only-of-type {\n",
       "        vertical-align: middle;\n",
       "    }\n",
       "\n",
       "    .dataframe tbody tr th {\n",
       "        vertical-align: top;\n",
       "    }\n",
       "\n",
       "    .dataframe thead th {\n",
       "        text-align: right;\n",
       "    }\n",
       "</style>\n",
       "<table border=\"1\" class=\"dataframe\">\n",
       "  <thead>\n",
       "    <tr style=\"text-align: right;\">\n",
       "      <th></th>\n",
       "      <th>hotel_country</th>\n",
       "      <th>Population</th>\n",
       "      <th>Area</th>\n",
       "    </tr>\n",
       "  </thead>\n",
       "  <tbody>\n",
       "    <tr>\n",
       "      <th>0</th>\n",
       "      <td>China</td>\n",
       "      <td>1339450000</td>\n",
       "      <td>9596960.00</td>\n",
       "    </tr>\n",
       "    <tr>\n",
       "      <th>1</th>\n",
       "      <td>India</td>\n",
       "      <td>1187550000</td>\n",
       "      <td>3287590.00</td>\n",
       "    </tr>\n",
       "    <tr>\n",
       "      <th>2</th>\n",
       "      <td>United States</td>\n",
       "      <td>310241000</td>\n",
       "      <td>9372610.00</td>\n",
       "    </tr>\n",
       "    <tr>\n",
       "      <th>3</th>\n",
       "      <td>Indonesia</td>\n",
       "      <td>237556000</td>\n",
       "      <td>1919440.00</td>\n",
       "    </tr>\n",
       "    <tr>\n",
       "      <th>4</th>\n",
       "      <td>Brazil</td>\n",
       "      <td>193467000</td>\n",
       "      <td>8547000.00</td>\n",
       "    </tr>\n",
       "    <tr>\n",
       "      <th>...</th>\n",
       "      <td>...</td>\n",
       "      <td>...</td>\n",
       "      <td>...</td>\n",
       "    </tr>\n",
       "    <tr>\n",
       "      <th>188</th>\n",
       "      <td>San Marino</td>\n",
       "      <td>31800</td>\n",
       "      <td>61.00</td>\n",
       "    </tr>\n",
       "    <tr>\n",
       "      <th>189</th>\n",
       "      <td>Palau</td>\n",
       "      <td>20000</td>\n",
       "      <td>458.00</td>\n",
       "    </tr>\n",
       "    <tr>\n",
       "      <th>190</th>\n",
       "      <td>Nauru</td>\n",
       "      <td>14000</td>\n",
       "      <td>21.00</td>\n",
       "    </tr>\n",
       "    <tr>\n",
       "      <th>191</th>\n",
       "      <td>Tuvalu</td>\n",
       "      <td>10000</td>\n",
       "      <td>26.00</td>\n",
       "    </tr>\n",
       "    <tr>\n",
       "      <th>192</th>\n",
       "      <td>Vatican City</td>\n",
       "      <td>800</td>\n",
       "      <td>0.44</td>\n",
       "    </tr>\n",
       "  </tbody>\n",
       "</table>\n",
       "<p>193 rows × 3 columns</p>\n",
       "</div>"
      ],
      "text/plain": [
       "     hotel_country  Population        Area\n",
       "0            China  1339450000  9596960.00\n",
       "1            India  1187550000  3287590.00\n",
       "2    United States   310241000  9372610.00\n",
       "3        Indonesia   237556000  1919440.00\n",
       "4           Brazil   193467000  8547000.00\n",
       "..             ...         ...         ...\n",
       "188     San Marino       31800       61.00\n",
       "189          Palau       20000      458.00\n",
       "190          Nauru       14000       21.00\n",
       "191         Tuvalu       10000       26.00\n",
       "192   Vatican City         800        0.44\n",
       "\n",
       "[193 rows x 3 columns]"
      ]
     },
     "execution_count": 12,
     "metadata": {},
     "output_type": "execute_result"
    }
   ],
   "source": [
    "country = pd.read_csv('./data/country.csv')\n",
    "\n",
    "country"
   ]
  },
  {
   "cell_type": "code",
   "execution_count": 13,
   "metadata": {},
   "outputs": [],
   "source": [
    "# Добавим площадь и численность страны отеля\n",
    "hotels = pd.merge(\n",
    "    left=hotels,\n",
    "    right=country,\n",
    "    on='hotel_country',\n",
    "    how='left'\n",
    ")"
   ]
  },
  {
   "cell_type": "code",
   "execution_count": 14,
   "metadata": {},
   "outputs": [],
   "source": [
    "hotels['review_date'] = pd.to_datetime(hotels['review_date'], dayfirst=False)\n",
    "\n",
    "# Выделим период оценки отеля по первому и последнему отзывам\n",
    "hotels['evaluation_period'] = (hotels.groupby('hotel_name')['review_date'].transform('max')\n",
    "                            - hotels.groupby('hotel_name')['review_date'].transform('min')).dt.days\n",
    "\n",
    "\n",
    "# Удаляем лишнее\n",
    "hotels = hotels.drop('review_date', axis=1)"
   ]
  },
  {
   "cell_type": "code",
   "execution_count": 15,
   "metadata": {},
   "outputs": [],
   "source": [
    "# Выделим 50 стран, из которых представлено больше всего рецензентов\n",
    "reviewersCountries = hotels['reviewer_nationality'].value_counts().nlargest(50).index.to_list()\n",
    "\n",
    "hotels['reviewer_nationality'] = hotels['reviewer_nationality']\\\n",
    "    .apply(lambda x: x if x in reviewersCountries else 'Other')"
   ]
  },
  {
   "cell_type": "code",
   "execution_count": 16,
   "metadata": {},
   "outputs": [],
   "source": [
    "# Все отзывы очень разные, оставим только факт наличия негативного или позитивного отзыва\n",
    "hotels['negative_review'] = hotels['review_total_negative_word_counts'].apply(\n",
    "    lambda x: 'No Negative' if not x else 'Some negative words'\n",
    ")\n",
    "\n",
    "hotels['positive_review'] = hotels['review_total_positive_word_counts'].apply(\n",
    "    lambda x: 'No Positive' if not x else 'Some positive words'\n",
    ")"
   ]
  },
  {
   "cell_type": "code",
   "execution_count": 17,
   "metadata": {},
   "outputs": [],
   "source": [
    "# Выделим разницу межу словами в положительном и отрицательном отзывах\n",
    "hotels['diff_number_of_words'] = hotels['review_total_positive_word_counts']\\\n",
    "    - hotels['review_total_negative_word_counts']"
   ]
  },
  {
   "cell_type": "code",
   "execution_count": 18,
   "metadata": {},
   "outputs": [],
   "source": [
    "def find_tags(tagString: str) -> list:\n",
    "    \"\"\"Функция преобразует строку с тегами в соответствующий список\n",
    "\n",
    "    Args:\n",
    "        tagString (str): Строка с тегами\n",
    "\n",
    "    Returns:\n",
    "        list: Список тегов\n",
    "    \"\"\"\n",
    "    r = re.compile(r'(?<=\\s)\\w+.*\\b') # Регулярное выражение для выделения тегов\n",
    "    \n",
    "    # Преобразуем строку с тегами\n",
    "    tagString = r.findall(tagString)[0]\n",
    "    \n",
    "    tagList = tagString.split(\" ', ' \")\n",
    "    \n",
    "    return tagList\n",
    "\n",
    "# Преобразуем теги для дальнейшей работы\n",
    "hotels['tags'] = hotels['tags'].apply(find_tags)\n",
    "\n",
    "# Выделим количество тегов\n",
    "hotels['tag_cnt'] = hotels['tags'].apply(lambda x: len(x))"
   ]
  },
  {
   "cell_type": "code",
   "execution_count": 19,
   "metadata": {},
   "outputs": [],
   "source": [
    "# Словарь для поиска тега по ключевым словам\n",
    "tagTypes = {\n",
    "    'Pets': 'with a pet',\n",
    "    'TripType': ('leisure trip', 'business trip'),\n",
    "    'NumberOfPersons': ('couple', 'solo trav', 'group', 'family w', 'with friends'),\n",
    "    'RoomType': '%',\n",
    "    'Period': 'stayed ',\n",
    "    'RatingDevice': 'device'\n",
    "}\n",
    "\n",
    "\n",
    "def createTagColumn(tagList: list, colType: str=None) -> str:\n",
    "    \"\"\"Функция возвращает тег, указанный рецензентом, в зависимости от типа тега\n",
    "\n",
    "    Args:\n",
    "        tagList (list): Все теги, которые указал рецензент\n",
    "        colType (str, optional): Тип тега. Defaults to None.\n",
    "\n",
    "    Returns:\n",
    "        str: Название тега\n",
    "    \"\"\"\n",
    "    i = 0 # Счетчик\n",
    "    if colType == 'RoomType':\n",
    "        for tag in tagList:\n",
    "            for wordsToCheck in tagTypes.values():\n",
    "                if type(wordsToCheck) is not tuple:\n",
    "                    if wordsToCheck in tag.lower():\n",
    "                        i += 1 # Если имеется слово, относящееся к тегам других типов, тег пропускается\n",
    "                else:\n",
    "                    for wordToCheck in wordsToCheck:\n",
    "                        if wordToCheck in tag.lower():\n",
    "                            i += 1\n",
    "                    \n",
    "            if i == 0: return tag # Если нет, этот тег является типом комнаты  \n",
    "            i = 0  \n",
    "        return 'Not Specified'\n",
    "            \n",
    "    # Все типы, кроме типа комнаты определяются перебором тегов в списке\n",
    "    for tag in tagList:\n",
    "        if type(tagTypes[colType]) is not tuple:\n",
    "            if tagTypes[colType] in tag.lower():\n",
    "                return tag\n",
    "        else:\n",
    "            for wordToCheck in tagTypes[colType]:\n",
    "                if wordToCheck in tag.lower():\n",
    "                    return tag\n",
    "                \n",
    "    return 'Not Specified'\n",
    "\n",
    "\n",
    "# Создаем столбцы для каждого типа тега\n",
    "for tagType in tagTypes.keys():\n",
    "    hotels[tagType + '_tag'] = hotels['tags'].apply(createTagColumn, colType=tagType)\n",
    "\n",
    "# Удаляем лишнее\n",
    "hotels = hotels.drop('tags', axis=1)"
   ]
  },
  {
   "cell_type": "code",
   "execution_count": 20,
   "metadata": {},
   "outputs": [],
   "source": [
    "# Выделим из тега количество дней, на которые останавливался рецензент\n",
    "mask = hotels['Period_tag'] != 'Not Specified'\n",
    "hotels.loc[mask, 'Stayed_days'] = hotels.loc[mask, 'Period_tag'].apply(lambda x: int(x.split()[1]))\n",
    "\n",
    "# Сразу заполним пропущенные значения медианным \n",
    "hotels = hotels.fillna(\n",
    "    {'Stayed_days': hotels.loc[mask, 'Stayed_days'].median()}\n",
    ")\n",
    "\n",
    "# Удаляем лишнее\n",
    "hotels = hotels.drop('Period_tag', axis=1)"
   ]
  },
  {
   "cell_type": "code",
   "execution_count": 21,
   "metadata": {},
   "outputs": [],
   "source": [
    "# Выделим количество дней между датой проверки и очистки\n",
    "hotels['days_since_review'] = hotels['days_since_review'].apply(lambda x: int(x.split()[0]))"
   ]
  },
  {
   "cell_type": "code",
   "execution_count": 22,
   "metadata": {},
   "outputs": [],
   "source": [
    "# Доля действительных оценок без проверки по отношению к количеству отзывов\n",
    "hotels['share_reviews_without_verification'] = (hotels['additional_number_of_scoring'] \\\n",
    "    / hotels['total_number_of_reviews']).round(2)"
   ]
  },
  {
   "cell_type": "code",
   "execution_count": 23,
   "metadata": {},
   "outputs": [
    {
     "name": "stdout",
     "output_type": "stream",
     "text": [
      "Количество неинформативных признаков по первичному математическому анализу: 1 (['Pets_tag'])\n"
     ]
    }
   ],
   "source": [
    "# Удалим неинформативные признаки, если они есть после создания новых признаков\n",
    "uninformative_lst = []\n",
    "for col in hotels.columns:\n",
    "    \n",
    "    repeat = hotels[col].value_counts(normalize=True).max() # Частота самого популярного признака\n",
    "    uniq_freq = hotels[col].nunique() / hotels[col].count() # Процентное соотношение уникальных значений\n",
    "    \n",
    "    if (repeat > 0.95) | (uniq_freq > 0.95):\n",
    "        uninformative_lst.append(col)\n",
    "\n",
    "hotels = hotels.drop(uninformative_lst, axis=1)\n",
    "\n",
    "print('Количество неинформативных признаков по первичному математическому анализу:', len(uninformative_lst),f'({uninformative_lst})')"
   ]
  },
  {
   "cell_type": "code",
   "execution_count": 24,
   "metadata": {},
   "outputs": [],
   "source": [
    "# Заполним пропуски в полученных категориальных признаках\n",
    "hotels['RatingDevice_tag'] = hotels['RatingDevice_tag']\\\n",
    "    .replace(['Not Specified', 'Submitted from a mobile device'], ['another device', 'mobile'])\n",
    "\n",
    "hotels['TripType_tag'] = hotels['TripType_tag'].replace(\n",
    "    'Not Specified',\n",
    "    hotels['TripType_tag'].mode()[0]\n",
    ")\n",
    "\n",
    "# В типах комнат очень много значений, оставим 50 наиболее популярных\n",
    "roomTypes = hotels['RoomType_tag'].value_counts().nlargest(50).index.to_list()\n",
    "\n",
    "hotels['RoomType_tag'] = hotels['RoomType_tag'].apply(\n",
    "    lambda x: x if x in roomTypes else 'Other'\n",
    ")"
   ]
  },
  {
   "cell_type": "code",
   "execution_count": 25,
   "metadata": {},
   "outputs": [],
   "source": [
    "# Выделим числовые и категориальные признаки\n",
    "numericColumns = [s for s in hotels.columns if hotels[s].dtypes != 'object']\n",
    "\n",
    "categoricalColumns = list(set(hotels.columns) - set(numericColumns))"
   ]
  },
  {
   "cell_type": "code",
   "execution_count": 26,
   "metadata": {},
   "outputs": [
    {
     "data": {
      "text/plain": [
       "[]"
      ]
     },
     "execution_count": 26,
     "metadata": {},
     "output_type": "execute_result"
    }
   ],
   "source": [
    "# Перед кодированием и нормализацией проверим числовые признаки на нормальноcть тестом К-квадрат Д'Агостино\n",
    "normal = []\n",
    "for col in numericColumns:\n",
    "    if stats.normaltest(hotels[col])[1] > 0.05: # Выберем уровень значимости 0.05\n",
    "        normal.append(col)\n",
    "\n",
    "normal"
   ]
  },
  {
   "attachments": {},
   "cell_type": "markdown",
   "metadata": {},
   "source": [
    "**Вывод:** отсутствуют нормально распределенные числовые признаки(даже среди созданных)"
   ]
  },
  {
   "attachments": {},
   "cell_type": "markdown",
   "metadata": {},
   "source": [
    "## Кодирование и нормализация"
   ]
  },
  {
   "cell_type": "code",
   "execution_count": 27,
   "metadata": {},
   "outputs": [],
   "source": [
    "# Создадим списки для определения типа кодирования для каждого признака\n",
    "binaryLst = []\n",
    "oneHotLst = []\n",
    "\n",
    "for col in categoricalColumns:\n",
    "    if hotels[col].nunique() > 15:\n",
    "        binaryLst.append(col)\n",
    "    else:\n",
    "        oneHotLst.append(col)\n",
    "        \n",
    "# Binary encoding\n",
    "encoder = ce.BinaryEncoder(cols=binaryLst)\n",
    "binary_enc = encoder.fit_transform(hotels[binaryLst])\n",
    "hotels = pd.concat([hotels, binary_enc], axis=1)\n",
    "\n",
    "# One-Hot encoding\n",
    "encoder = ce.OneHotEncoder(cols=oneHotLst, use_cat_names=True)\n",
    "oneHot_enc = encoder.fit_transform(hotels[oneHotLst])\n",
    "hotels = pd.concat([hotels, oneHot_enc], axis=1)\n",
    "\n",
    "# Удаляем лишнее\n",
    "hotels = hotels.drop(binaryLst + oneHotLst, axis=1)"
   ]
  },
  {
   "cell_type": "code",
   "execution_count": 28,
   "metadata": {},
   "outputs": [],
   "source": [
    "# Нормализация\n",
    "r_scaler = preprocessing.RobustScaler()\n",
    "hotels_r = r_scaler.fit_transform(hotels.drop(['reviewer_score'], axis = 1))\n",
    "hotels_r = pd.DataFrame(hotels_r, columns=hotels.drop(['reviewer_score'], axis = 1).columns)"
   ]
  },
  {
   "attachments": {},
   "cell_type": "markdown",
   "metadata": {},
   "source": [
    "## Отбор признаков"
   ]
  },
  {
   "cell_type": "code",
   "execution_count": 29,
   "metadata": {},
   "outputs": [],
   "source": [
    "# Матрица корреляций\n",
    "matrix = hotels_r.corr()\n",
    "\n",
    "colPairs = [] # Пары столбцов\n",
    "for i, col in enumerate(matrix.columns):\n",
    "    for idx in matrix.columns[i+1:]:\n",
    "        colPairs.append([col, idx])\n",
    "\n",
    "corList = [] # Список пар столбцов с их коэффициентом корреляции\n",
    "for elem in colPairs:\n",
    "    corList.append((elem, matrix.loc[elem[1], elem[0]].round(2)))\n",
    "\n",
    "# Список пар с сильной корреляцией    \n",
    "strongCorr = list(filter(lambda x: True if abs(x[1]) > 0.7 else False, corList))\n",
    "\n",
    "deleteLst = [] # Список столбцов, которые необходимо удалить из-за сильной корреляции с другими признаками\n",
    "\n",
    "for colPair in strongCorr:\n",
    "    deleteLst.append(colPair[0][0])\n",
    "    \n",
    "hotels_r = hotels_r.drop(set(deleteLst), axis=1)"
   ]
  },
  {
   "attachments": {},
   "cell_type": "markdown",
   "metadata": {},
   "source": [
    "## Модель"
   ]
  },
  {
   "cell_type": "code",
   "execution_count": 30,
   "metadata": {},
   "outputs": [],
   "source": [
    "# Разбиваем датафрейм на части, необходимые для обучения и тестирования модели  \n",
    "# Х - данные с информацией об отелях, у - целевая переменная (рейтинги отелей) \n",
    "X = hotels_r  \n",
    "y = hotels['reviewer_score'] "
   ]
  },
  {
   "cell_type": "code",
   "execution_count": 31,
   "metadata": {},
   "outputs": [
    {
     "data": {
      "text/plain": [
       "\"numericColumns.remove('reviewer_score')\\n\\nnum_cols = list(set(numericColumns) - set(deleteLst))\\n\\ncat_cols = list(set(hotels_r.columns) - set(num_cols))\""
      ]
     },
     "execution_count": 31,
     "metadata": {},
     "output_type": "execute_result"
    }
   ],
   "source": [
    "# Выбираем лучшие признаки\n",
    "'''numericColumns.remove('reviewer_score')\n",
    "\n",
    "num_cols = list(set(numericColumns) - set(deleteLst))\n",
    "\n",
    "cat_cols = list(set(hotels_r.columns) - set(num_cols))'''"
   ]
  },
  {
   "cell_type": "code",
   "execution_count": 32,
   "metadata": {},
   "outputs": [
    {
     "data": {
      "text/plain": [
       "\"y=y.astype('int')\\n\\nselector =  SelectKBest(chi2, k=22)\\nselector.fit(X[cat_cols], y)\\n\\n\\nimp_cat = pd.Series(chi2(selector.transform(X[cat_cols]), y)[0], index=X[cat_cols].columns[selector.get_support(indices=True)])\\nimp_cat.sort_values(inplace = True)\\nimp_cat.plot(kind = 'barh')\""
      ]
     },
     "execution_count": 32,
     "metadata": {},
     "output_type": "execute_result"
    }
   ],
   "source": [
    "# Оценим 22 лучших категориальных признака\n",
    "'''y=y.astype('int')\n",
    "\n",
    "selector =  SelectKBest(chi2, k=22)\n",
    "selector.fit(X[cat_cols], y)\n",
    "\n",
    "\n",
    "imp_cat = pd.Series(chi2(selector.transform(X[cat_cols]), y)[0], index=X[cat_cols].columns[selector.get_support(indices=True)])\n",
    "imp_cat.sort_values(inplace = True)\n",
    "imp_cat.plot(kind = 'barh')'''"
   ]
  },
  {
   "cell_type": "code",
   "execution_count": 33,
   "metadata": {},
   "outputs": [
    {
     "data": {
      "text/plain": [
       "'X_new_cat = pd.DataFrame(\\n    data=SelectKBest(f_classif, k=22).fit_transform(X[cat_cols], y),\\n    columns=X[cat_cols].columns[selector.get_support(indices=True)]\\n)'"
      ]
     },
     "execution_count": 33,
     "metadata": {},
     "output_type": "execute_result"
    }
   ],
   "source": [
    "# Таблица с лучшими категориальными признаками\n",
    "'''X_new_cat = pd.DataFrame(\n",
    "    data=SelectKBest(f_classif, k=22).fit_transform(X[cat_cols], y),\n",
    "    columns=X[cat_cols].columns[selector.get_support(indices=True)]\n",
    ")'''"
   ]
  },
  {
   "cell_type": "code",
   "execution_count": 34,
   "metadata": {},
   "outputs": [
    {
     "data": {
      "text/plain": [
       "\"\\nselector =  SelectKBest(f_classif, k=8)\\nselector.fit(X[num_cols], y)\\n\\n\\nimp_cat = pd.Series(f_classif(selector.transform(X[num_cols]), y)[0], index=X[num_cols].columns[selector.get_support(indices=True)])\\nimp_cat.sort_values(inplace = True)\\nimp_cat.plot(kind = 'barh')\""
      ]
     },
     "execution_count": 34,
     "metadata": {},
     "output_type": "execute_result"
    }
   ],
   "source": [
    "# Оценим 8 лучших числовых признаков\n",
    "'''\n",
    "selector =  SelectKBest(f_classif, k=8)\n",
    "selector.fit(X[num_cols], y)\n",
    "\n",
    "\n",
    "imp_cat = pd.Series(f_classif(selector.transform(X[num_cols]), y)[0], index=X[num_cols].columns[selector.get_support(indices=True)])\n",
    "imp_cat.sort_values(inplace = True)\n",
    "imp_cat.plot(kind = 'barh')'''"
   ]
  },
  {
   "cell_type": "code",
   "execution_count": 35,
   "metadata": {},
   "outputs": [
    {
     "data": {
      "text/plain": [
       "'X_new_num = pd.DataFrame(\\n    data=SelectKBest(f_classif, k=8).fit_transform(X[num_cols], y),\\n    columns=X[num_cols].columns[SelectKBest(f_classif, k=8).fit(X[num_cols], y).get_support(indices=True)]\\n)'"
      ]
     },
     "execution_count": 35,
     "metadata": {},
     "output_type": "execute_result"
    }
   ],
   "source": [
    "# Оставим 8 лучших числовых признаков\n",
    "'''X_new_num = pd.DataFrame(\n",
    "    data=SelectKBest(f_classif, k=8).fit_transform(X[num_cols], y),\n",
    "    columns=X[num_cols].columns[SelectKBest(f_classif, k=8).fit(X[num_cols], y).get_support(indices=True)]\n",
    ")'''"
   ]
  },
  {
   "cell_type": "code",
   "execution_count": 36,
   "metadata": {},
   "outputs": [
    {
     "data": {
      "text/plain": [
       "'X_new = pd.concat([X_new_cat, X_new_num], axis=1)'"
      ]
     },
     "execution_count": 36,
     "metadata": {},
     "output_type": "execute_result"
    }
   ],
   "source": [
    "# Объединяем в один итоговый датафрейм\n",
    "'''X = pd.concat([X_new_cat, X_new_num], axis=1)'''"
   ]
  },
  {
   "cell_type": "code",
   "execution_count": 37,
   "metadata": {},
   "outputs": [],
   "source": [
    "# Наборы данных с меткой \"train\" будут использоваться для обучения модели, \"test\" - для тестирования.  \n",
    "# Для тестирования мы будем использовать 25% от исходного датасета.  \n",
    "X_train, X_test, y_train, y_test = train_test_split(X, y, test_size=0.25, random_state=42)"
   ]
  },
  {
   "cell_type": "code",
   "execution_count": 38,
   "metadata": {},
   "outputs": [],
   "source": [
    "# Создаём модель  \n",
    "regr = RandomForestRegressor(n_estimators=100)  \n",
    "      \n",
    "# Обучаем модель на тестовом наборе данных  \n",
    "regr.fit(X_train, y_train)  \n",
    "      \n",
    "# Используем обученную модель для предсказания рейтинга отелей в тестовой выборке.  \n",
    "# Предсказанные значения записываем в переменную y_pred  \n",
    "y_pred = regr.predict(X_test) "
   ]
  },
  {
   "cell_type": "code",
   "execution_count": 39,
   "metadata": {},
   "outputs": [
    {
     "name": "stdout",
     "output_type": "stream",
     "text": [
      "MAPE: 0.13579311159869584\n"
     ]
    }
   ],
   "source": [
    "# Сравниваем предсказанные значения (y_pred) с реальными (y_test), и смотрим насколько они отличаются  \n",
    "# Метрика называется Mean Absolute Percentage Error (MAPE) и показывает среднюю абсолютную процентную ошибку предсказанных значений от фактических.  \n",
    "metric = metrics.mean_absolute_percentage_error(y_test, y_pred)\n",
    "print('MAPE:', metric)"
   ]
  },
  {
   "cell_type": "code",
   "execution_count": 40,
   "metadata": {},
   "outputs": [
    {
     "name": "stderr",
     "output_type": "stream",
     "text": [
      "\u001b[1;38;5;39mCOMET INFO:\u001b[0m ---------------------------------------------------------------------------------------\n",
      "\u001b[1;38;5;39mCOMET INFO:\u001b[0m Comet.ml Experiment Summary\n",
      "\u001b[1;38;5;39mCOMET INFO:\u001b[0m ---------------------------------------------------------------------------------------\n",
      "\u001b[1;38;5;39mCOMET INFO:\u001b[0m   Data:\n",
      "\u001b[1;38;5;39mCOMET INFO:\u001b[0m     display_summary_level : 1\n",
      "\u001b[1;38;5;39mCOMET INFO:\u001b[0m     url                   : https://www.comet.com/startrexii/hotelsscoreprediction/9ad0e316ec6943cb85109acad1ce8b7e\n",
      "\u001b[1;38;5;39mCOMET INFO:\u001b[0m   Metrics:\n",
      "\u001b[1;38;5;39mCOMET INFO:\u001b[0m     mape : 0.13579311159869584\n",
      "\u001b[1;38;5;39mCOMET INFO:\u001b[0m   Parameters:\n",
      "\u001b[1;38;5;39mCOMET INFO:\u001b[0m     data_shape : 49\n",
      "\u001b[1;38;5;39mCOMET INFO:\u001b[0m   Uploads:\n",
      "\u001b[1;38;5;39mCOMET INFO:\u001b[0m     environment details      : 1\n",
      "\u001b[1;38;5;39mCOMET INFO:\u001b[0m     filename                 : 1\n",
      "\u001b[1;38;5;39mCOMET INFO:\u001b[0m     git metadata             : 1\n",
      "\u001b[1;38;5;39mCOMET INFO:\u001b[0m     git-patch (uncompressed) : 1 (177.37 KB)\n",
      "\u001b[1;38;5;39mCOMET INFO:\u001b[0m     installed packages       : 1\n",
      "\u001b[1;38;5;39mCOMET INFO:\u001b[0m     notebook                 : 1\n",
      "\u001b[1;38;5;39mCOMET INFO:\u001b[0m     source_code              : 1\n",
      "\u001b[1;38;5;39mCOMET INFO:\u001b[0m     text-sample              : 1\n",
      "\u001b[1;38;5;39mCOMET INFO:\u001b[0m \n",
      "\u001b[1;38;5;214mCOMET WARNING:\u001b[0m To get all data logged automatically, import comet_ml before the following modules: sklearn.\n",
      "\u001b[1;38;5;39mCOMET INFO:\u001b[0m Please wait for metadata to finish uploading (timeout is 3600 seconds)\n"
     ]
    }
   ],
   "source": [
    "Metrics = {'mape': metric}\n",
    "experiment.log_metrics(Metrics)\n",
    "\n",
    "parameters = {'data_shape': X_train.shape[1]}\n",
    "experiment.log_parameters(parameters)\n",
    "\n",
    "experiment.log_text('data prep,corr feature selection, norm RobustScaler,no best feature selection(very big MAPE if using)')\n",
    "\n",
    "experiment.end()"
   ]
  }
 ],
 "metadata": {
  "kernelspec": {
   "display_name": "Python 3",
   "language": "python",
   "name": "python3"
  },
  "language_info": {
   "codemirror_mode": {
    "name": "ipython",
    "version": 3
   },
   "file_extension": ".py",
   "mimetype": "text/x-python",
   "name": "python",
   "nbconvert_exporter": "python",
   "pygments_lexer": "ipython3",
   "version": "3.11.1"
  },
  "orig_nbformat": 4,
  "vscode": {
   "interpreter": {
    "hash": "52634da84371cba311ea128a5ea7cdc41ff074b781779e754b270ff9f8153cee"
   }
  }
 },
 "nbformat": 4,
 "nbformat_minor": 2
}
